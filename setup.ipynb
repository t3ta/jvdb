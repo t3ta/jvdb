{
 "cells": [
  {
   "cell_type": "code",
   "execution_count": 3,
   "metadata": {},
   "outputs": [
    {
     "name": "stdout",
     "output_type": "stream",
     "text": [
      "Requirement already satisfied: openpyxl in /usr/local/lib/python3.10/dist-packages (3.0.10)\n",
      "Requirement already satisfied: et-xmlfile in /usr/local/lib/python3.10/dist-packages (from openpyxl) (1.1.0)\n",
      "\u001b[33mWARNING: Running pip as the 'root' user can result in broken permissions and conflicting behaviour with the system package manager. It is recommended to use a virtual environment instead: https://pip.pypa.io/warnings/venv\u001b[0m\u001b[33m\n",
      "\u001b[0mNote: you may need to restart the kernel to use updated packages.\n"
     ]
    }
   ],
   "source": [
    "%pip install openpyxl"
   ]
  },
  {
   "cell_type": "code",
   "execution_count": 12,
   "metadata": {},
   "outputs": [],
   "source": [
    "import openpyxl\n",
    "\n",
    "workbook = openpyxl.load_workbook('./data/JV-Data480.xlsx')\n",
    "sheet = workbook['コード表']\n",
    "commands = []\n",
    "\n",
    "\n",
    "for row in range(10, 124):\n",
    "    values = (\n",
    "        sheet.cell(row, 3).value or \"\",\n",
    "        sheet.cell(row, 4).value or \"\",\n",
    "        sheet.cell(row, 5).value or \"\",\n",
    "        sheet.cell(row, 6).value or \"\",\n",
    "        sheet.cell(row, 7).value or \"\",\n",
    "        sheet.cell(row, 8).value or \"\",\n",
    "        sheet.cell(row, 9).value or \"\"\n",
    "    )\n",
    "    commands.append(\"INSERT INTO jyo_code VALUES ('%s', '%s', '%s', '%s', '%s', '%s', '%s');\" % values)\n",
    "\n",
    "    with open(\"./jyo_code_data.sql\", mode=\"w\") as f:\n",
    "        f.write('\\n'.join(commands))\n"
   ]
  }
 ],
 "metadata": {
  "kernelspec": {
   "display_name": "Python 3.10.4 64-bit",
   "language": "python",
   "name": "python3"
  },
  "language_info": {
   "codemirror_mode": {
    "name": "ipython",
    "version": 3
   },
   "file_extension": ".py",
   "mimetype": "text/x-python",
   "name": "python",
   "nbconvert_exporter": "python",
   "pygments_lexer": "ipython3",
   "version": "3.10.4"
  },
  "orig_nbformat": 4,
  "vscode": {
   "interpreter": {
    "hash": "916dbcbb3f70747c44a77c7bcd40155683ae19c65e1c03b4aa3499c5328201f1"
   }
  }
 },
 "nbformat": 4,
 "nbformat_minor": 2
}
